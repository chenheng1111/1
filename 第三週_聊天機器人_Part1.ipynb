{
  "nbformat": 4,
  "nbformat_minor": 0,
  "metadata": {
    "colab": {
      "provenance": [],
      "include_colab_link": true
    },
    "kernelspec": {
      "name": "python3",
      "display_name": "Python 3"
    },
    "language_info": {
      "name": "python"
    }
  },
  "cells": [
    {
      "cell_type": "markdown",
      "metadata": {
        "id": "view-in-github",
        "colab_type": "text"
      },
      "source": [
        "<a href=\"https://colab.research.google.com/github/chenheng1111/1/blob/main/%E7%AC%AC%E4%B8%89%E9%80%B1_%E8%81%8A%E5%A4%A9%E6%A9%9F%E5%99%A8%E4%BA%BA_Part1.ipynb\" target=\"_parent\"><img src=\"https://colab.research.google.com/assets/colab-badge.svg\" alt=\"Open In Colab\"/></a>"
      ]
    },
    {
      "cell_type": "markdown",
      "source": [
        "目標：根據使用者輸入的成績，將數字轉換為對應的等第"
      ],
      "metadata": {
        "id": "5gtwv89QiZ10"
      }
    },
    {
      "cell_type": "code",
      "source": [
        "def get_grade(score):\n",
        "    # 檢查輸入是否在合理範圍內\n",
        "    if not isinstance(score, (int, float)) or score < 0 or score > 100:\n",
        "        return 'Invalid score'\n",
        "    # 進行等第判斷\n",
        "    if 90 <= score <= 100:\n",
        "        return 'A+'\n",
        "    elif 85 <= score < 90:\n",
        "        return 'A'\n",
        "    elif 80 <= score < 85:\n",
        "        return 'B+'\n",
        "    elif 75 <= score < 80:\n",
        "        return 'B'\n",
        "    elif 70 <= score < 75:\n",
        "        return 'C+'\n",
        "    elif 65 <= score < 70:\n",
        "        return 'C'\n",
        "    elif 60 <= score < 65:\n",
        "        return 'D'\n",
        "    elif 0 <= score < 60:\n",
        "        return 'F'\n",
        "\n",
        "# 測試函數\n",
        "try:\n",
        "    score = float(input(\"請輸入你的成績: \"))  # 輸入一個成績並轉換為浮點數\n",
        "    grade = get_grade(score)  # 根據成績獲取等第\n",
        "    print(f\"你的成績等第是 {grade}。\")  # 顯示結果\n",
        "except ValueError:\n",
        "    print(\"輸入的不是有效的數字。\")"
      ],
      "metadata": {
        "colab": {
          "base_uri": "https://localhost:8080/"
        },
        "id": "IzIIaT0PiYLc",
        "outputId": "e39ec5d3-cf61-46f7-ed44-9ab9b386accb"
      },
      "execution_count": null,
      "outputs": [
        {
          "output_type": "stream",
          "name": "stdout",
          "text": [
            "請輸入你的成績: 55\n",
            "你的成績等第是 F。\n"
          ]
        }
      ]
    },
    {
      "cell_type": "markdown",
      "source": [
        "各位同學，今天我想跟你們分享幾個關於 Python 程式設計的重要觀念，希望能幫助你們更好地理解這次的課程內容。\n",
        "\n",
        "### 1. 函數\n",
        "我們在寫程式時，經常會用到函數。它就像是一個工具，可以幫我們重複執行某個特定的任務。你們會看到，我們的成績轉換程式裡用了 `get_grade` 函數，它負責根據你輸入的成績，來給出對應的等第。只要理解了這個概念，未來我們可以寫更多不同功能的函數來處理各種任務。\n",
        "\n",
        "### 2. 條件語句\n",
        "這裡我們還用到了 `if`、`elif` 和 `else` 條件語句。當成績在不同範圍內時，這些條件語句會幫我們做出正確的判斷，像是如果成績在 90 到 100 之間，那麼我們就會返回 \"A+\"。條件語句其實是程式中的「判斷器」，它能幫助程式作出不同的決策。\n",
        "\n",
        "### 3. 錯誤處理\n",
        "一個好的程式不僅要能正常運行，還要能處理不合理的輸入。假如有人輸入了超過 100 分的成績，或是輸入了一個字母，我們的程式應該要能夠識別這些「錯誤」，並給出合理的回應。在這裡，我們使用了 `if` 語句來檢查成績範圍，還用了 `try-except` 來防止輸入非數字的錯誤。\n",
        "\n",
        "### 4. `input()` 和 `print()`\n",
        "你們會看到我們用 `input()` 來讓使用者輸入成績，這個功能很實用，可以讓程式變得互動。而 `print()` 則是負責將結果顯示出來，告訴使用者他們輸入的成績對應什麼等第。\n",
        "\n",
        "### 5. 數據類型檢查\n",
        "還有一個需要注意的點，就是我們要確保使用者輸入的數據是數字，而不是字母或其他不合理的東西。所以我們加了數據類型的檢查，來避免程式運行錯誤。\n",
        "\n",
        "### 6. 程式碼結構\n",
        "最後，我希望你們能理解，整個程式是由函數、條件語句、輸入和輸出組成的。只要你們能分清楚每一部分的功能，這樣的結構可以應用到更多複雜的程式裡，幫助你們處理更多的情況。\n",
        "\n",
        "希望這些觀念對你們有幫助，寫程式其實就是一個步步拆解問題、解決問題的過程。你們學會了這些基礎概念後，未來遇到更大的挑戰，也會有信心去面對！"
      ],
      "metadata": {
        "id": "Ngj6LH_CizEn"
      }
    }
  ]
}